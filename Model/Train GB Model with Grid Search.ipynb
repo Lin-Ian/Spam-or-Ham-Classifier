{
 "cells": [
  {
   "cell_type": "markdown",
   "source": [
    "# Pipeline"
   ],
   "metadata": {
    "collapsed": false
   }
  },
  {
   "cell_type": "code",
   "execution_count": 1,
   "metadata": {
    "collapsed": true
   },
   "outputs": [
    {
     "data": {
      "text/plain": "   message_length  punct%         0  008704050406  0089mi  0121  01223585236  \\\n0             160     2.5  0.0  0.0           0.0     0.0   0.0          0.0   \n1             128     4.7  0.0  0.0           0.0     0.0   0.0          0.0   \n2              49     4.1  0.0  0.0           0.0     0.0   0.0          0.0   \n3              62     3.2  0.0  0.0           0.0     0.0   0.0          0.0   \n4              28     7.1  0.0  0.0           0.0     0.0   0.0          0.0   \n\n   01223585334  0125698789  ...  zindgi  zoe  zogtoriu  zoom  zouk  zyada  \\\n0          0.0         0.0  ...     0.0  0.0       0.0   0.0   0.0    0.0   \n1          0.0         0.0  ...     0.0  0.0       0.0   0.0   0.0    0.0   \n2          0.0         0.0  ...     0.0  0.0       0.0   0.0   0.0    0.0   \n3          0.0         0.0  ...     0.0  0.0       0.0   0.0   0.0    0.0   \n4          0.0         0.0  ...     0.0  0.0       0.0   0.0   0.0    0.0   \n\n     é    ü  üll  〨ud  \n0  0.0  0.0  0.0  0.0  \n1  0.0  0.0  0.0  0.0  \n2  0.0  0.0  0.0  0.0  \n3  0.0  0.0  0.0  0.0  \n4  0.0  0.0  0.0  0.0  \n\n[5 rows x 8109 columns]",
      "text/html": "<div>\n<style scoped>\n    .dataframe tbody tr th:only-of-type {\n        vertical-align: middle;\n    }\n\n    .dataframe tbody tr th {\n        vertical-align: top;\n    }\n\n    .dataframe thead th {\n        text-align: right;\n    }\n</style>\n<table border=\"1\" class=\"dataframe\">\n  <thead>\n    <tr style=\"text-align: right;\">\n      <th></th>\n      <th>message_length</th>\n      <th>punct%</th>\n      <th></th>\n      <th>0</th>\n      <th>008704050406</th>\n      <th>0089mi</th>\n      <th>0121</th>\n      <th>01223585236</th>\n      <th>01223585334</th>\n      <th>0125698789</th>\n      <th>...</th>\n      <th>zindgi</th>\n      <th>zoe</th>\n      <th>zogtoriu</th>\n      <th>zoom</th>\n      <th>zouk</th>\n      <th>zyada</th>\n      <th>é</th>\n      <th>ü</th>\n      <th>üll</th>\n      <th>〨ud</th>\n    </tr>\n  </thead>\n  <tbody>\n    <tr>\n      <th>0</th>\n      <td>160</td>\n      <td>2.5</td>\n      <td>0.0</td>\n      <td>0.0</td>\n      <td>0.0</td>\n      <td>0.0</td>\n      <td>0.0</td>\n      <td>0.0</td>\n      <td>0.0</td>\n      <td>0.0</td>\n      <td>...</td>\n      <td>0.0</td>\n      <td>0.0</td>\n      <td>0.0</td>\n      <td>0.0</td>\n      <td>0.0</td>\n      <td>0.0</td>\n      <td>0.0</td>\n      <td>0.0</td>\n      <td>0.0</td>\n      <td>0.0</td>\n    </tr>\n    <tr>\n      <th>1</th>\n      <td>128</td>\n      <td>4.7</td>\n      <td>0.0</td>\n      <td>0.0</td>\n      <td>0.0</td>\n      <td>0.0</td>\n      <td>0.0</td>\n      <td>0.0</td>\n      <td>0.0</td>\n      <td>0.0</td>\n      <td>...</td>\n      <td>0.0</td>\n      <td>0.0</td>\n      <td>0.0</td>\n      <td>0.0</td>\n      <td>0.0</td>\n      <td>0.0</td>\n      <td>0.0</td>\n      <td>0.0</td>\n      <td>0.0</td>\n      <td>0.0</td>\n    </tr>\n    <tr>\n      <th>2</th>\n      <td>49</td>\n      <td>4.1</td>\n      <td>0.0</td>\n      <td>0.0</td>\n      <td>0.0</td>\n      <td>0.0</td>\n      <td>0.0</td>\n      <td>0.0</td>\n      <td>0.0</td>\n      <td>0.0</td>\n      <td>...</td>\n      <td>0.0</td>\n      <td>0.0</td>\n      <td>0.0</td>\n      <td>0.0</td>\n      <td>0.0</td>\n      <td>0.0</td>\n      <td>0.0</td>\n      <td>0.0</td>\n      <td>0.0</td>\n      <td>0.0</td>\n    </tr>\n    <tr>\n      <th>3</th>\n      <td>62</td>\n      <td>3.2</td>\n      <td>0.0</td>\n      <td>0.0</td>\n      <td>0.0</td>\n      <td>0.0</td>\n      <td>0.0</td>\n      <td>0.0</td>\n      <td>0.0</td>\n      <td>0.0</td>\n      <td>...</td>\n      <td>0.0</td>\n      <td>0.0</td>\n      <td>0.0</td>\n      <td>0.0</td>\n      <td>0.0</td>\n      <td>0.0</td>\n      <td>0.0</td>\n      <td>0.0</td>\n      <td>0.0</td>\n      <td>0.0</td>\n    </tr>\n    <tr>\n      <th>4</th>\n      <td>28</td>\n      <td>7.1</td>\n      <td>0.0</td>\n      <td>0.0</td>\n      <td>0.0</td>\n      <td>0.0</td>\n      <td>0.0</td>\n      <td>0.0</td>\n      <td>0.0</td>\n      <td>0.0</td>\n      <td>...</td>\n      <td>0.0</td>\n      <td>0.0</td>\n      <td>0.0</td>\n      <td>0.0</td>\n      <td>0.0</td>\n      <td>0.0</td>\n      <td>0.0</td>\n      <td>0.0</td>\n      <td>0.0</td>\n      <td>0.0</td>\n    </tr>\n  </tbody>\n</table>\n<p>5 rows × 8109 columns</p>\n</div>"
     },
     "execution_count": 1,
     "metadata": {},
     "output_type": "execute_result"
    }
   ],
   "source": [
    "import nltk\n",
    "import pandas as pd\n",
    "import re\n",
    "from sklearn.feature_extraction.text import TfidfVectorizer\n",
    "import string\n",
    "\n",
    "stopwords = nltk.corpus.stopwords.words('english')\n",
    "ps = nltk.PorterStemmer()\n",
    "\n",
    "dataset = pd.read_csv('../Data/SMSSpamCollection.tsv', sep='\\t', names=['label', 'message'])\n",
    "\n",
    "def count_punct(text):\n",
    "    count = sum([1 for char in text if char in string.punctuation])\n",
    "    return round(count/(len(text) - text.count(\" \")), 3)*100\n",
    "\n",
    "dataset['message_length'] = dataset['message'].apply(lambda x: len(x) - x.count(\" \"))\n",
    "dataset['punct%'] = dataset['message'].apply(lambda x: count_punct(x))\n",
    "\n",
    "def clean_text(text):\n",
    "    text = \"\".join([word.lower() for word in text if word not in string.punctuation])\n",
    "    tokens = re.split('\\W+', text)\n",
    "    text = [ps.stem(word) for word in tokens if word not in stopwords]\n",
    "    return text\n",
    "\n",
    "tfidf_vect = TfidfVectorizer(analyzer=clean_text)\n",
    "X_tfidf = tfidf_vect.fit_transform(dataset['message'])\n",
    "\n",
    "X_features = pd.concat([dataset['message_length'], dataset['punct%'], pd.DataFrame(X_tfidf.toarray(), columns=tfidf_vect.get_feature_names_out())], axis=1)\n",
    "X_features.head()"
   ]
  },
  {
   "cell_type": "markdown",
   "source": [
    "# Split training/testing data"
   ],
   "metadata": {
    "collapsed": false
   }
  },
  {
   "cell_type": "code",
   "source": [
    "from sklearn.metrics import precision_recall_fscore_support as score\n",
    "from sklearn.model_selection import train_test_split"
   ],
   "metadata": {
    "collapsed": false,
    "pycharm": {
     "name": "#%%\n"
    }
   },
   "execution_count": 2,
   "outputs": []
  },
  {
   "cell_type": "code",
   "execution_count": 3,
   "outputs": [],
   "source": [
    "X_train, X_test, y_train, y_test = train_test_split(X_features, dataset['label'], test_size=0.2)"
   ],
   "metadata": {
    "collapsed": false,
    "pycharm": {
     "name": "#%%\n"
    }
   }
  },
  {
   "cell_type": "markdown",
   "source": [
    "# Grid Search Gradient Boosting Model"
   ],
   "metadata": {
    "collapsed": false
   }
  },
  {
   "cell_type": "code",
   "execution_count": 4,
   "outputs": [],
   "source": [
    "from sklearn.ensemble import GradientBoostingClassifier"
   ],
   "metadata": {
    "collapsed": false,
    "pycharm": {
     "name": "#%%\n"
    }
   }
  },
  {
   "cell_type": "code",
   "execution_count": 5,
   "outputs": [],
   "source": [
    "def train_gb(estimators, maximum_depth, learn_rate):\n",
    "    gb = GradientBoostingClassifier(n_estimators=estimators, max_depth=maximum_depth, learning_rate=learn_rate)\n",
    "    gb_model =  gb.fit(X_train, y_train)\n",
    "    y_pred = gb_model.predict(X_test)\n",
    "    precision, recall, fscore, support = score(y_test, y_pred, pos_label='spam', average='binary')\n",
    "    print('Est: {} / Depth {} / LR: {} ---- Precision: {} / Recall: {} / Accuracy: {}'.format(\n",
    "        estimators, maximum_depth, learn_rate, round(precision, 3), round(recall, 3), round((y_pred==y_test).sum()/len(y_pred), 3)\n",
    "    ))"
   ],
   "metadata": {
    "collapsed": false,
    "pycharm": {
     "name": "#%%\n"
    }
   }
  },
  {
   "cell_type": "code",
   "execution_count": 6,
   "outputs": [
    {
     "name": "stderr",
     "output_type": "stream",
     "text": [
      "C:\\Users\\rueip\\AppData\\Local\\Programs\\Python\\Python310\\lib\\site-packages\\sklearn\\metrics\\_classification.py:1318: UndefinedMetricWarning: Precision and F-score are ill-defined and being set to 0.0 due to no predicted samples. Use `zero_division` parameter to control this behavior.\n",
      "  _warn_prf(average, modifier, msg_start, len(result))\n"
     ]
    },
    {
     "name": "stdout",
     "output_type": "stream",
     "text": [
      "Est: 50 / Depth 3 / LR: 0.01 ---- Precision: 0.0 / Recall: 0.0 / Accuracy: 0.88\n",
      "Est: 50 / Depth 3 / LR: 0.1 ---- Precision: 0.951 / Recall: 0.724 / Accuracy: 0.962\n",
      "Est: 50 / Depth 3 / LR: 1 ---- Precision: 0.866 / Recall: 0.769 / Accuracy: 0.958\n",
      "Est: 50 / Depth 7 / LR: 0.01 ---- Precision: 1.0 / Recall: 0.007 / Accuracy: 0.881\n",
      "Est: 50 / Depth 7 / LR: 0.1 ---- Precision: 0.902 / Recall: 0.821 / Accuracy: 0.968\n",
      "Est: 50 / Depth 7 / LR: 1 ---- Precision: 0.865 / Recall: 0.813 / Accuracy: 0.962\n"
     ]
    },
    {
     "name": "stderr",
     "output_type": "stream",
     "text": [
      "C:\\Users\\rueip\\AppData\\Local\\Programs\\Python\\Python310\\lib\\site-packages\\sklearn\\metrics\\_classification.py:1318: UndefinedMetricWarning: Precision and F-score are ill-defined and being set to 0.0 due to no predicted samples. Use `zero_division` parameter to control this behavior.\n",
      "  _warn_prf(average, modifier, msg_start, len(result))\n"
     ]
    },
    {
     "name": "stdout",
     "output_type": "stream",
     "text": [
      "Est: 50 / Depth 11 / LR: 0.01 ---- Precision: 0.0 / Recall: 0.0 / Accuracy: 0.88\n",
      "Est: 50 / Depth 11 / LR: 0.1 ---- Precision: 0.899 / Recall: 0.799 / Accuracy: 0.965\n",
      "Est: 50 / Depth 11 / LR: 1 ---- Precision: 0.88 / Recall: 0.821 / Accuracy: 0.965\n"
     ]
    },
    {
     "name": "stderr",
     "output_type": "stream",
     "text": [
      "C:\\Users\\rueip\\AppData\\Local\\Programs\\Python\\Python310\\lib\\site-packages\\sklearn\\metrics\\_classification.py:1318: UndefinedMetricWarning: Precision and F-score are ill-defined and being set to 0.0 due to no predicted samples. Use `zero_division` parameter to control this behavior.\n",
      "  _warn_prf(average, modifier, msg_start, len(result))\n"
     ]
    },
    {
     "name": "stdout",
     "output_type": "stream",
     "text": [
      "Est: 50 / Depth 15 / LR: 0.01 ---- Precision: 0.0 / Recall: 0.0 / Accuracy: 0.88\n",
      "Est: 50 / Depth 15 / LR: 0.1 ---- Precision: 0.879 / Recall: 0.813 / Accuracy: 0.964\n",
      "Est: 50 / Depth 15 / LR: 1 ---- Precision: 0.876 / Recall: 0.843 / Accuracy: 0.967\n",
      "Est: 100 / Depth 3 / LR: 0.01 ---- Precision: 0.958 / Recall: 0.515 / Accuracy: 0.939\n",
      "Est: 100 / Depth 3 / LR: 0.1 ---- Precision: 0.964 / Recall: 0.799 / Accuracy: 0.972\n",
      "Est: 100 / Depth 3 / LR: 1 ---- Precision: 0.955 / Recall: 0.791 / Accuracy: 0.97\n",
      "Est: 100 / Depth 7 / LR: 0.01 ---- Precision: 0.947 / Recall: 0.672 / Accuracy: 0.956\n",
      "Est: 100 / Depth 7 / LR: 0.1 ---- Precision: 0.917 / Recall: 0.828 / Accuracy: 0.97\n",
      "Est: 100 / Depth 7 / LR: 1 ---- Precision: 0.865 / Recall: 0.813 / Accuracy: 0.962\n",
      "Est: 100 / Depth 11 / LR: 0.01 ---- Precision: 0.893 / Recall: 0.746 / Accuracy: 0.959\n",
      "Est: 100 / Depth 11 / LR: 0.1 ---- Precision: 0.919 / Recall: 0.843 / Accuracy: 0.972\n",
      "Est: 100 / Depth 11 / LR: 1 ---- Precision: 0.949 / Recall: 0.836 / Accuracy: 0.975\n",
      "Est: 100 / Depth 15 / LR: 0.01 ---- Precision: 0.866 / Recall: 0.769 / Accuracy: 0.958\n",
      "Est: 100 / Depth 15 / LR: 0.1 ---- Precision: 0.882 / Recall: 0.836 / Accuracy: 0.967\n",
      "Est: 100 / Depth 15 / LR: 1 ---- Precision: 0.918 / Recall: 0.836 / Accuracy: 0.971\n",
      "Est: 150 / Depth 3 / LR: 0.01 ---- Precision: 0.948 / Recall: 0.545 / Accuracy: 0.942\n",
      "Est: 150 / Depth 3 / LR: 0.1 ---- Precision: 0.956 / Recall: 0.806 / Accuracy: 0.972\n",
      "Est: 150 / Depth 3 / LR: 1 ---- Precision: 0.916 / Recall: 0.813 / Accuracy: 0.969\n",
      "Est: 150 / Depth 7 / LR: 0.01 ---- Precision: 0.925 / Recall: 0.731 / Accuracy: 0.961\n",
      "Est: 150 / Depth 7 / LR: 0.1 ---- Precision: 0.926 / Recall: 0.836 / Accuracy: 0.972\n",
      "Est: 150 / Depth 7 / LR: 1 ---- Precision: 0.926 / Recall: 0.843 / Accuracy: 0.973\n",
      "Est: 150 / Depth 11 / LR: 0.01 ---- Precision: 0.897 / Recall: 0.784 / Accuracy: 0.963\n",
      "Est: 150 / Depth 11 / LR: 0.1 ---- Precision: 0.917 / Recall: 0.828 / Accuracy: 0.97\n",
      "Est: 150 / Depth 11 / LR: 1 ---- Precision: 0.941 / Recall: 0.828 / Accuracy: 0.973\n",
      "Est: 150 / Depth 15 / LR: 0.01 ---- Precision: 0.862 / Recall: 0.791 / Accuracy: 0.96\n",
      "Est: 150 / Depth 15 / LR: 0.1 ---- Precision: 0.898 / Recall: 0.851 / Accuracy: 0.97\n",
      "Est: 150 / Depth 15 / LR: 1 ---- Precision: 0.927 / Recall: 0.851 / Accuracy: 0.974\n"
     ]
    }
   ],
   "source": [
    "for n_est in [50, 100, 150]:\n",
    "    for max_depth in [3, 7, 11, 15]:\n",
    "        for lr in [0.01, 0.1, 1]:\n",
    "            train_gb(n_est, max_depth, lr)"
   ],
   "metadata": {
    "collapsed": false,
    "pycharm": {
     "name": "#%%\n"
    }
   }
  }
 ],
 "metadata": {
  "kernelspec": {
   "display_name": "Python 3",
   "language": "python",
   "name": "python3"
  },
  "language_info": {
   "codemirror_mode": {
    "name": "ipython",
    "version": 2
   },
   "file_extension": ".py",
   "mimetype": "text/x-python",
   "name": "python",
   "nbconvert_exporter": "python",
   "pygments_lexer": "ipython2",
   "version": "2.7.6"
  }
 },
 "nbformat": 4,
 "nbformat_minor": 0
}