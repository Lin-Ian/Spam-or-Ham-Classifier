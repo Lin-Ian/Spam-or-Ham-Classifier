{
 "cells": [
  {
   "cell_type": "markdown",
   "source": [
    "# Pipeline"
   ],
   "metadata": {
    "collapsed": false
   }
  },
  {
   "cell_type": "code",
   "execution_count": 1,
   "metadata": {
    "collapsed": true
   },
   "outputs": [
    {
     "data": {
      "text/plain": "   message_length  punct%         0  008704050406  0089mi  0121  01223585236  \\\n0             160     2.5  0.0  0.0           0.0     0.0   0.0          0.0   \n1             128     4.7  0.0  0.0           0.0     0.0   0.0          0.0   \n2              49     4.1  0.0  0.0           0.0     0.0   0.0          0.0   \n3              62     3.2  0.0  0.0           0.0     0.0   0.0          0.0   \n4              28     7.1  0.0  0.0           0.0     0.0   0.0          0.0   \n\n   01223585334  0125698789  ...  zindgi  zoe  zogtoriu  zoom  zouk  zyada  \\\n0          0.0         0.0  ...     0.0  0.0       0.0   0.0   0.0    0.0   \n1          0.0         0.0  ...     0.0  0.0       0.0   0.0   0.0    0.0   \n2          0.0         0.0  ...     0.0  0.0       0.0   0.0   0.0    0.0   \n3          0.0         0.0  ...     0.0  0.0       0.0   0.0   0.0    0.0   \n4          0.0         0.0  ...     0.0  0.0       0.0   0.0   0.0    0.0   \n\n     é    ü  üll  〨ud  \n0  0.0  0.0  0.0  0.0  \n1  0.0  0.0  0.0  0.0  \n2  0.0  0.0  0.0  0.0  \n3  0.0  0.0  0.0  0.0  \n4  0.0  0.0  0.0  0.0  \n\n[5 rows x 8109 columns]",
      "text/html": "<div>\n<style scoped>\n    .dataframe tbody tr th:only-of-type {\n        vertical-align: middle;\n    }\n\n    .dataframe tbody tr th {\n        vertical-align: top;\n    }\n\n    .dataframe thead th {\n        text-align: right;\n    }\n</style>\n<table border=\"1\" class=\"dataframe\">\n  <thead>\n    <tr style=\"text-align: right;\">\n      <th></th>\n      <th>message_length</th>\n      <th>punct%</th>\n      <th></th>\n      <th>0</th>\n      <th>008704050406</th>\n      <th>0089mi</th>\n      <th>0121</th>\n      <th>01223585236</th>\n      <th>01223585334</th>\n      <th>0125698789</th>\n      <th>...</th>\n      <th>zindgi</th>\n      <th>zoe</th>\n      <th>zogtoriu</th>\n      <th>zoom</th>\n      <th>zouk</th>\n      <th>zyada</th>\n      <th>é</th>\n      <th>ü</th>\n      <th>üll</th>\n      <th>〨ud</th>\n    </tr>\n  </thead>\n  <tbody>\n    <tr>\n      <th>0</th>\n      <td>160</td>\n      <td>2.5</td>\n      <td>0.0</td>\n      <td>0.0</td>\n      <td>0.0</td>\n      <td>0.0</td>\n      <td>0.0</td>\n      <td>0.0</td>\n      <td>0.0</td>\n      <td>0.0</td>\n      <td>...</td>\n      <td>0.0</td>\n      <td>0.0</td>\n      <td>0.0</td>\n      <td>0.0</td>\n      <td>0.0</td>\n      <td>0.0</td>\n      <td>0.0</td>\n      <td>0.0</td>\n      <td>0.0</td>\n      <td>0.0</td>\n    </tr>\n    <tr>\n      <th>1</th>\n      <td>128</td>\n      <td>4.7</td>\n      <td>0.0</td>\n      <td>0.0</td>\n      <td>0.0</td>\n      <td>0.0</td>\n      <td>0.0</td>\n      <td>0.0</td>\n      <td>0.0</td>\n      <td>0.0</td>\n      <td>...</td>\n      <td>0.0</td>\n      <td>0.0</td>\n      <td>0.0</td>\n      <td>0.0</td>\n      <td>0.0</td>\n      <td>0.0</td>\n      <td>0.0</td>\n      <td>0.0</td>\n      <td>0.0</td>\n      <td>0.0</td>\n    </tr>\n    <tr>\n      <th>2</th>\n      <td>49</td>\n      <td>4.1</td>\n      <td>0.0</td>\n      <td>0.0</td>\n      <td>0.0</td>\n      <td>0.0</td>\n      <td>0.0</td>\n      <td>0.0</td>\n      <td>0.0</td>\n      <td>0.0</td>\n      <td>...</td>\n      <td>0.0</td>\n      <td>0.0</td>\n      <td>0.0</td>\n      <td>0.0</td>\n      <td>0.0</td>\n      <td>0.0</td>\n      <td>0.0</td>\n      <td>0.0</td>\n      <td>0.0</td>\n      <td>0.0</td>\n    </tr>\n    <tr>\n      <th>3</th>\n      <td>62</td>\n      <td>3.2</td>\n      <td>0.0</td>\n      <td>0.0</td>\n      <td>0.0</td>\n      <td>0.0</td>\n      <td>0.0</td>\n      <td>0.0</td>\n      <td>0.0</td>\n      <td>0.0</td>\n      <td>...</td>\n      <td>0.0</td>\n      <td>0.0</td>\n      <td>0.0</td>\n      <td>0.0</td>\n      <td>0.0</td>\n      <td>0.0</td>\n      <td>0.0</td>\n      <td>0.0</td>\n      <td>0.0</td>\n      <td>0.0</td>\n    </tr>\n    <tr>\n      <th>4</th>\n      <td>28</td>\n      <td>7.1</td>\n      <td>0.0</td>\n      <td>0.0</td>\n      <td>0.0</td>\n      <td>0.0</td>\n      <td>0.0</td>\n      <td>0.0</td>\n      <td>0.0</td>\n      <td>0.0</td>\n      <td>...</td>\n      <td>0.0</td>\n      <td>0.0</td>\n      <td>0.0</td>\n      <td>0.0</td>\n      <td>0.0</td>\n      <td>0.0</td>\n      <td>0.0</td>\n      <td>0.0</td>\n      <td>0.0</td>\n      <td>0.0</td>\n    </tr>\n  </tbody>\n</table>\n<p>5 rows × 8109 columns</p>\n</div>"
     },
     "execution_count": 1,
     "metadata": {},
     "output_type": "execute_result"
    }
   ],
   "source": [
    "import nltk\n",
    "import pandas as pd\n",
    "import re\n",
    "from sklearn.feature_extraction.text import TfidfVectorizer\n",
    "import string\n",
    "\n",
    "stopwords = nltk.corpus.stopwords.words('english')\n",
    "ps = nltk.PorterStemmer()\n",
    "\n",
    "dataset = pd.read_csv('../Data/SMSSpamCollection.tsv', sep='\\t', names=['label', 'message'])\n",
    "\n",
    "def count_punct(text):\n",
    "    count = sum([1 for char in text if char in string.punctuation])\n",
    "    return round(count/(len(text) - text.count(\" \")), 3)*100\n",
    "\n",
    "dataset['message_length'] = dataset['message'].apply(lambda x: len(x) - x.count(\" \"))\n",
    "dataset['punct%'] = dataset['message'].apply(lambda x: count_punct(x))\n",
    "\n",
    "def clean_text(text):\n",
    "    text = \"\".join([word.lower() for word in text if word not in string.punctuation])\n",
    "    tokens = re.split('\\W+', text)\n",
    "    text = [ps.stem(word) for word in tokens if word not in stopwords]\n",
    "    return text\n",
    "\n",
    "tfidf_vect = TfidfVectorizer(analyzer=clean_text)\n",
    "X_tfidf = tfidf_vect.fit_transform(dataset['message'])\n",
    "\n",
    "X_features = pd.concat([dataset['message_length'], dataset['punct%'], pd.DataFrame(X_tfidf.toarray(), columns=tfidf_vect.get_feature_names_out())], axis=1)\n",
    "X_features.head()"
   ]
  },
  {
   "cell_type": "markdown",
   "source": [
    "# Build Grid Search with Cross Validation"
   ],
   "metadata": {
    "collapsed": false
   }
  },
  {
   "cell_type": "code",
   "execution_count": 2,
   "outputs": [],
   "source": [
    "from sklearn.ensemble import RandomForestClassifier\n",
    "from sklearn.model_selection import GridSearchCV"
   ],
   "metadata": {
    "collapsed": false,
    "pycharm": {
     "name": "#%%\n"
    }
   }
  },
  {
   "cell_type": "code",
   "execution_count": 6,
   "outputs": [
    {
     "data": {
      "text/plain": "    mean_fit_time  std_fit_time  mean_score_time  std_score_time  \\\n11      40.657554      0.645346         0.306712        0.042039   \n7       22.109813      0.812827         0.361985        0.056069   \n3        2.874965      0.554448         0.171986        0.021025   \n8       55.067059      0.301177         1.036516        0.080044   \n10      31.983598      4.508703         0.488462        0.197938   \n\n   param_max_depth param_n_estimators  \\\n11            None                300   \n7               90                150   \n3               60                 10   \n8               90                300   \n10            None                150   \n\n                                      params  split0_test_score  \\\n11  {'max_depth': None, 'n_estimators': 300}           0.979354   \n7     {'max_depth': 90, 'n_estimators': 150}           0.977558   \n3      {'max_depth': 60, 'n_estimators': 10}           0.978456   \n8     {'max_depth': 90, 'n_estimators': 300}           0.978456   \n10  {'max_depth': None, 'n_estimators': 150}           0.976661   \n\n    split1_test_score  split2_test_score  split3_test_score  \\\n11           0.974865           0.974865           0.969452   \n7            0.975763           0.973968           0.969452   \n3            0.974865           0.978456           0.966757   \n8            0.976661           0.973968           0.967655   \n10           0.973968           0.973968           0.968553   \n\n    split4_test_score  mean_test_score  std_test_score  rank_test_score  \n11           0.970350         0.973777        0.003575                1  \n7            0.971249         0.973598        0.002940                2  \n3            0.969452         0.973597        0.004750                3  \n8            0.970350         0.973418        0.003970                4  \n10           0.971249         0.972880        0.002758                5  ",
      "text/html": "<div>\n<style scoped>\n    .dataframe tbody tr th:only-of-type {\n        vertical-align: middle;\n    }\n\n    .dataframe tbody tr th {\n        vertical-align: top;\n    }\n\n    .dataframe thead th {\n        text-align: right;\n    }\n</style>\n<table border=\"1\" class=\"dataframe\">\n  <thead>\n    <tr style=\"text-align: right;\">\n      <th></th>\n      <th>mean_fit_time</th>\n      <th>std_fit_time</th>\n      <th>mean_score_time</th>\n      <th>std_score_time</th>\n      <th>param_max_depth</th>\n      <th>param_n_estimators</th>\n      <th>params</th>\n      <th>split0_test_score</th>\n      <th>split1_test_score</th>\n      <th>split2_test_score</th>\n      <th>split3_test_score</th>\n      <th>split4_test_score</th>\n      <th>mean_test_score</th>\n      <th>std_test_score</th>\n      <th>rank_test_score</th>\n    </tr>\n  </thead>\n  <tbody>\n    <tr>\n      <th>11</th>\n      <td>40.657554</td>\n      <td>0.645346</td>\n      <td>0.306712</td>\n      <td>0.042039</td>\n      <td>None</td>\n      <td>300</td>\n      <td>{'max_depth': None, 'n_estimators': 300}</td>\n      <td>0.979354</td>\n      <td>0.974865</td>\n      <td>0.974865</td>\n      <td>0.969452</td>\n      <td>0.970350</td>\n      <td>0.973777</td>\n      <td>0.003575</td>\n      <td>1</td>\n    </tr>\n    <tr>\n      <th>7</th>\n      <td>22.109813</td>\n      <td>0.812827</td>\n      <td>0.361985</td>\n      <td>0.056069</td>\n      <td>90</td>\n      <td>150</td>\n      <td>{'max_depth': 90, 'n_estimators': 150}</td>\n      <td>0.977558</td>\n      <td>0.975763</td>\n      <td>0.973968</td>\n      <td>0.969452</td>\n      <td>0.971249</td>\n      <td>0.973598</td>\n      <td>0.002940</td>\n      <td>2</td>\n    </tr>\n    <tr>\n      <th>3</th>\n      <td>2.874965</td>\n      <td>0.554448</td>\n      <td>0.171986</td>\n      <td>0.021025</td>\n      <td>60</td>\n      <td>10</td>\n      <td>{'max_depth': 60, 'n_estimators': 10}</td>\n      <td>0.978456</td>\n      <td>0.974865</td>\n      <td>0.978456</td>\n      <td>0.966757</td>\n      <td>0.969452</td>\n      <td>0.973597</td>\n      <td>0.004750</td>\n      <td>3</td>\n    </tr>\n    <tr>\n      <th>8</th>\n      <td>55.067059</td>\n      <td>0.301177</td>\n      <td>1.036516</td>\n      <td>0.080044</td>\n      <td>90</td>\n      <td>300</td>\n      <td>{'max_depth': 90, 'n_estimators': 300}</td>\n      <td>0.978456</td>\n      <td>0.976661</td>\n      <td>0.973968</td>\n      <td>0.967655</td>\n      <td>0.970350</td>\n      <td>0.973418</td>\n      <td>0.003970</td>\n      <td>4</td>\n    </tr>\n    <tr>\n      <th>10</th>\n      <td>31.983598</td>\n      <td>4.508703</td>\n      <td>0.488462</td>\n      <td>0.197938</td>\n      <td>None</td>\n      <td>150</td>\n      <td>{'max_depth': None, 'n_estimators': 150}</td>\n      <td>0.976661</td>\n      <td>0.973968</td>\n      <td>0.973968</td>\n      <td>0.968553</td>\n      <td>0.971249</td>\n      <td>0.972880</td>\n      <td>0.002758</td>\n      <td>5</td>\n    </tr>\n  </tbody>\n</table>\n</div>"
     },
     "execution_count": 6,
     "metadata": {},
     "output_type": "execute_result"
    }
   ],
   "source": [
    "rf = RandomForestClassifier()\n",
    "param = {'n_estimators': [10, 150, 300],\n",
    "         'max_depth': [30, 60, 90, None]}\n",
    "\n",
    "gs = GridSearchCV(rf, param, cv=5, n_jobs=-1)\n",
    "gs_fit = gs.fit(X_features, dataset['label'])\n",
    "pd.DataFrame(gs_fit.cv_results_).sort_values('mean_test_score', ascending=False)[0:5]"
   ],
   "metadata": {
    "collapsed": false,
    "pycharm": {
     "name": "#%%\n"
    }
   }
  },
  {
   "cell_type": "code",
   "execution_count": null,
   "outputs": [],
   "source": [],
   "metadata": {
    "collapsed": false,
    "pycharm": {
     "name": "#%%\n"
    }
   }
  }
 ],
 "metadata": {
  "kernelspec": {
   "display_name": "Python 3",
   "language": "python",
   "name": "python3"
  },
  "language_info": {
   "codemirror_mode": {
    "name": "ipython",
    "version": 2
   },
   "file_extension": ".py",
   "mimetype": "text/x-python",
   "name": "python",
   "nbconvert_exporter": "python",
   "pygments_lexer": "ipython2",
   "version": "2.7.6"
  }
 },
 "nbformat": 4,
 "nbformat_minor": 0
}