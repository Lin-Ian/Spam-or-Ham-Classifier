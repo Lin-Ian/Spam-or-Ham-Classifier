{
 "cells": [
  {
   "cell_type": "markdown",
   "source": [
    "# Pipeline"
   ],
   "metadata": {
    "collapsed": false
   }
  },
  {
   "cell_type": "code",
   "execution_count": 1,
   "metadata": {
    "collapsed": true
   },
   "outputs": [
    {
     "data": {
      "text/plain": "   message_length  punct%         0  008704050406  0089mi  0121  01223585236  \\\n0             160     2.5  0.0  0.0           0.0     0.0   0.0          0.0   \n1             128     4.7  0.0  0.0           0.0     0.0   0.0          0.0   \n2              49     4.1  0.0  0.0           0.0     0.0   0.0          0.0   \n3              62     3.2  0.0  0.0           0.0     0.0   0.0          0.0   \n4              28     7.1  0.0  0.0           0.0     0.0   0.0          0.0   \n\n   01223585334  0125698789  ...  zindgi  zoe  zogtoriu  zoom  zouk  zyada  \\\n0          0.0         0.0  ...     0.0  0.0       0.0   0.0   0.0    0.0   \n1          0.0         0.0  ...     0.0  0.0       0.0   0.0   0.0    0.0   \n2          0.0         0.0  ...     0.0  0.0       0.0   0.0   0.0    0.0   \n3          0.0         0.0  ...     0.0  0.0       0.0   0.0   0.0    0.0   \n4          0.0         0.0  ...     0.0  0.0       0.0   0.0   0.0    0.0   \n\n     é    ü  üll  〨ud  \n0  0.0  0.0  0.0  0.0  \n1  0.0  0.0  0.0  0.0  \n2  0.0  0.0  0.0  0.0  \n3  0.0  0.0  0.0  0.0  \n4  0.0  0.0  0.0  0.0  \n\n[5 rows x 8109 columns]",
      "text/html": "<div>\n<style scoped>\n    .dataframe tbody tr th:only-of-type {\n        vertical-align: middle;\n    }\n\n    .dataframe tbody tr th {\n        vertical-align: top;\n    }\n\n    .dataframe thead th {\n        text-align: right;\n    }\n</style>\n<table border=\"1\" class=\"dataframe\">\n  <thead>\n    <tr style=\"text-align: right;\">\n      <th></th>\n      <th>message_length</th>\n      <th>punct%</th>\n      <th></th>\n      <th>0</th>\n      <th>008704050406</th>\n      <th>0089mi</th>\n      <th>0121</th>\n      <th>01223585236</th>\n      <th>01223585334</th>\n      <th>0125698789</th>\n      <th>...</th>\n      <th>zindgi</th>\n      <th>zoe</th>\n      <th>zogtoriu</th>\n      <th>zoom</th>\n      <th>zouk</th>\n      <th>zyada</th>\n      <th>é</th>\n      <th>ü</th>\n      <th>üll</th>\n      <th>〨ud</th>\n    </tr>\n  </thead>\n  <tbody>\n    <tr>\n      <th>0</th>\n      <td>160</td>\n      <td>2.5</td>\n      <td>0.0</td>\n      <td>0.0</td>\n      <td>0.0</td>\n      <td>0.0</td>\n      <td>0.0</td>\n      <td>0.0</td>\n      <td>0.0</td>\n      <td>0.0</td>\n      <td>...</td>\n      <td>0.0</td>\n      <td>0.0</td>\n      <td>0.0</td>\n      <td>0.0</td>\n      <td>0.0</td>\n      <td>0.0</td>\n      <td>0.0</td>\n      <td>0.0</td>\n      <td>0.0</td>\n      <td>0.0</td>\n    </tr>\n    <tr>\n      <th>1</th>\n      <td>128</td>\n      <td>4.7</td>\n      <td>0.0</td>\n      <td>0.0</td>\n      <td>0.0</td>\n      <td>0.0</td>\n      <td>0.0</td>\n      <td>0.0</td>\n      <td>0.0</td>\n      <td>0.0</td>\n      <td>...</td>\n      <td>0.0</td>\n      <td>0.0</td>\n      <td>0.0</td>\n      <td>0.0</td>\n      <td>0.0</td>\n      <td>0.0</td>\n      <td>0.0</td>\n      <td>0.0</td>\n      <td>0.0</td>\n      <td>0.0</td>\n    </tr>\n    <tr>\n      <th>2</th>\n      <td>49</td>\n      <td>4.1</td>\n      <td>0.0</td>\n      <td>0.0</td>\n      <td>0.0</td>\n      <td>0.0</td>\n      <td>0.0</td>\n      <td>0.0</td>\n      <td>0.0</td>\n      <td>0.0</td>\n      <td>...</td>\n      <td>0.0</td>\n      <td>0.0</td>\n      <td>0.0</td>\n      <td>0.0</td>\n      <td>0.0</td>\n      <td>0.0</td>\n      <td>0.0</td>\n      <td>0.0</td>\n      <td>0.0</td>\n      <td>0.0</td>\n    </tr>\n    <tr>\n      <th>3</th>\n      <td>62</td>\n      <td>3.2</td>\n      <td>0.0</td>\n      <td>0.0</td>\n      <td>0.0</td>\n      <td>0.0</td>\n      <td>0.0</td>\n      <td>0.0</td>\n      <td>0.0</td>\n      <td>0.0</td>\n      <td>...</td>\n      <td>0.0</td>\n      <td>0.0</td>\n      <td>0.0</td>\n      <td>0.0</td>\n      <td>0.0</td>\n      <td>0.0</td>\n      <td>0.0</td>\n      <td>0.0</td>\n      <td>0.0</td>\n      <td>0.0</td>\n    </tr>\n    <tr>\n      <th>4</th>\n      <td>28</td>\n      <td>7.1</td>\n      <td>0.0</td>\n      <td>0.0</td>\n      <td>0.0</td>\n      <td>0.0</td>\n      <td>0.0</td>\n      <td>0.0</td>\n      <td>0.0</td>\n      <td>0.0</td>\n      <td>...</td>\n      <td>0.0</td>\n      <td>0.0</td>\n      <td>0.0</td>\n      <td>0.0</td>\n      <td>0.0</td>\n      <td>0.0</td>\n      <td>0.0</td>\n      <td>0.0</td>\n      <td>0.0</td>\n      <td>0.0</td>\n    </tr>\n  </tbody>\n</table>\n<p>5 rows × 8109 columns</p>\n</div>"
     },
     "execution_count": 1,
     "metadata": {},
     "output_type": "execute_result"
    }
   ],
   "source": [
    "import nltk\n",
    "import pandas as pd\n",
    "import re\n",
    "from sklearn.feature_extraction.text import TfidfVectorizer\n",
    "import string\n",
    "\n",
    "stopwords = nltk.corpus.stopwords.words('english')\n",
    "ps = nltk.PorterStemmer()\n",
    "\n",
    "dataset = pd.read_csv('../Data/SMSSpamCollection.tsv', sep='\\t', names=['label', 'message'])\n",
    "\n",
    "def count_punct(text):\n",
    "    count = sum([1 for char in text if char in string.punctuation])\n",
    "    return round(count/(len(text) - text.count(\" \")), 3)*100\n",
    "\n",
    "dataset['message_length'] = dataset['message'].apply(lambda x: len(x) - x.count(\" \"))\n",
    "dataset['punct%'] = dataset['message'].apply(lambda x: count_punct(x))\n",
    "\n",
    "def clean_text(text):\n",
    "    text = \"\".join([word.lower() for word in text if word not in string.punctuation])\n",
    "    tokens = re.split('\\W+', text)\n",
    "    text = [ps.stem(word) for word in tokens if word not in stopwords]\n",
    "    return text\n",
    "\n",
    "tfidf_vect = TfidfVectorizer(analyzer=clean_text)\n",
    "X_tfidf = tfidf_vect.fit_transform(dataset['message'])\n",
    "\n",
    "X_features = pd.concat([dataset['message_length'], dataset['punct%'], pd.DataFrame(X_tfidf.toarray(), columns=tfidf_vect.get_feature_names_out())], axis=1)\n",
    "X_features.head()"
   ]
  },
  {
   "cell_type": "markdown",
   "source": [
    "# Build Grid Search with Cross Validation"
   ],
   "metadata": {
    "collapsed": false
   }
  },
  {
   "cell_type": "code",
   "execution_count": 2,
   "outputs": [],
   "source": [
    "from sklearn.ensemble import GradientBoostingClassifier\n",
    "from sklearn.model_selection import GridSearchCV"
   ],
   "metadata": {
    "collapsed": false,
    "pycharm": {
     "name": "#%%\n"
    }
   }
  },
  {
   "cell_type": "code",
   "execution_count": 3,
   "outputs": [
    {
     "data": {
      "text/plain": "   mean_fit_time  std_fit_time  mean_score_time  std_score_time  \\\n1     262.279967     59.159766         0.266497        0.051568   \n3     436.472173     12.156020         0.270514        0.049719   \n2     261.529148      3.920421         0.221321        0.011404   \n4     263.893043     18.308446         0.235845        0.035173   \n5     451.414805     12.380184         0.200283        0.030505   \n\n  param_learning_rate param_max_depth param_n_estimators  \\\n1                 0.1               7                150   \n3                 0.1              17                150   \n2                 0.1              17                100   \n4                 0.1              15                100   \n5                 0.1              15                150   \n\n                                              params  split0_test_score  \\\n1  {'learning_rate': 0.1, 'max_depth': 7, 'n_esti...           0.965889   \n3  {'learning_rate': 0.1, 'max_depth': 17, 'n_est...           0.965889   \n2  {'learning_rate': 0.1, 'max_depth': 17, 'n_est...           0.964093   \n4  {'learning_rate': 0.1, 'max_depth': 15, 'n_est...           0.964991   \n5  {'learning_rate': 0.1, 'max_depth': 15, 'n_est...           0.965889   \n\n   split1_test_score  split2_test_score  split3_test_score  split4_test_score  \\\n1           0.981149           0.971275           0.966757           0.966757   \n3           0.976661           0.971275           0.967655           0.969452   \n2           0.975763           0.968582           0.970350           0.971249   \n4           0.974865           0.970377           0.968553           0.969452   \n5           0.976661           0.969479           0.968553           0.966757   \n\n   mean_test_score  std_test_score  rank_test_score  \n1         0.970365        0.005713                1  \n3         0.970186        0.003702                2  \n2         0.970007        0.003789                3  \n4         0.969648        0.003184                4  \n5         0.969468        0.003814                5  ",
      "text/html": "<div>\n<style scoped>\n    .dataframe tbody tr th:only-of-type {\n        vertical-align: middle;\n    }\n\n    .dataframe tbody tr th {\n        vertical-align: top;\n    }\n\n    .dataframe thead th {\n        text-align: right;\n    }\n</style>\n<table border=\"1\" class=\"dataframe\">\n  <thead>\n    <tr style=\"text-align: right;\">\n      <th></th>\n      <th>mean_fit_time</th>\n      <th>std_fit_time</th>\n      <th>mean_score_time</th>\n      <th>std_score_time</th>\n      <th>param_learning_rate</th>\n      <th>param_max_depth</th>\n      <th>param_n_estimators</th>\n      <th>params</th>\n      <th>split0_test_score</th>\n      <th>split1_test_score</th>\n      <th>split2_test_score</th>\n      <th>split3_test_score</th>\n      <th>split4_test_score</th>\n      <th>mean_test_score</th>\n      <th>std_test_score</th>\n      <th>rank_test_score</th>\n    </tr>\n  </thead>\n  <tbody>\n    <tr>\n      <th>1</th>\n      <td>262.279967</td>\n      <td>59.159766</td>\n      <td>0.266497</td>\n      <td>0.051568</td>\n      <td>0.1</td>\n      <td>7</td>\n      <td>150</td>\n      <td>{'learning_rate': 0.1, 'max_depth': 7, 'n_esti...</td>\n      <td>0.965889</td>\n      <td>0.981149</td>\n      <td>0.971275</td>\n      <td>0.966757</td>\n      <td>0.966757</td>\n      <td>0.970365</td>\n      <td>0.005713</td>\n      <td>1</td>\n    </tr>\n    <tr>\n      <th>3</th>\n      <td>436.472173</td>\n      <td>12.156020</td>\n      <td>0.270514</td>\n      <td>0.049719</td>\n      <td>0.1</td>\n      <td>17</td>\n      <td>150</td>\n      <td>{'learning_rate': 0.1, 'max_depth': 17, 'n_est...</td>\n      <td>0.965889</td>\n      <td>0.976661</td>\n      <td>0.971275</td>\n      <td>0.967655</td>\n      <td>0.969452</td>\n      <td>0.970186</td>\n      <td>0.003702</td>\n      <td>2</td>\n    </tr>\n    <tr>\n      <th>2</th>\n      <td>261.529148</td>\n      <td>3.920421</td>\n      <td>0.221321</td>\n      <td>0.011404</td>\n      <td>0.1</td>\n      <td>17</td>\n      <td>100</td>\n      <td>{'learning_rate': 0.1, 'max_depth': 17, 'n_est...</td>\n      <td>0.964093</td>\n      <td>0.975763</td>\n      <td>0.968582</td>\n      <td>0.970350</td>\n      <td>0.971249</td>\n      <td>0.970007</td>\n      <td>0.003789</td>\n      <td>3</td>\n    </tr>\n    <tr>\n      <th>4</th>\n      <td>263.893043</td>\n      <td>18.308446</td>\n      <td>0.235845</td>\n      <td>0.035173</td>\n      <td>0.1</td>\n      <td>15</td>\n      <td>100</td>\n      <td>{'learning_rate': 0.1, 'max_depth': 15, 'n_est...</td>\n      <td>0.964991</td>\n      <td>0.974865</td>\n      <td>0.970377</td>\n      <td>0.968553</td>\n      <td>0.969452</td>\n      <td>0.969648</td>\n      <td>0.003184</td>\n      <td>4</td>\n    </tr>\n    <tr>\n      <th>5</th>\n      <td>451.414805</td>\n      <td>12.380184</td>\n      <td>0.200283</td>\n      <td>0.030505</td>\n      <td>0.1</td>\n      <td>15</td>\n      <td>150</td>\n      <td>{'learning_rate': 0.1, 'max_depth': 15, 'n_est...</td>\n      <td>0.965889</td>\n      <td>0.976661</td>\n      <td>0.969479</td>\n      <td>0.968553</td>\n      <td>0.966757</td>\n      <td>0.969468</td>\n      <td>0.003814</td>\n      <td>5</td>\n    </tr>\n  </tbody>\n</table>\n</div>"
     },
     "execution_count": 3,
     "metadata": {},
     "output_type": "execute_result"
    }
   ],
   "source": [
    "gb = GradientBoostingClassifier()\n",
    "param = {\n",
    "    'n_estimators': [100, 150],\n",
    "    'max_depth': [7, 17, 15],\n",
    "    'learning_rate': [0.1]\n",
    "}\n",
    "\n",
    "gs = GridSearchCV(gb, param, cv=5, n_jobs=-1)\n",
    "gs_fit = gs.fit(X_features, dataset['label'])\n",
    "pd.DataFrame(gs_fit.cv_results_).sort_values('mean_test_score', ascending=False)[0:5]"
   ],
   "metadata": {
    "collapsed": false,
    "pycharm": {
     "name": "#%%\n"
    }
   }
  },
  {
   "cell_type": "code",
   "execution_count": null,
   "outputs": [],
   "source": [],
   "metadata": {
    "collapsed": false,
    "pycharm": {
     "name": "#%%\n"
    }
   }
  }
 ],
 "metadata": {
  "kernelspec": {
   "display_name": "Python 3",
   "language": "python",
   "name": "python3"
  },
  "language_info": {
   "codemirror_mode": {
    "name": "ipython",
    "version": 2
   },
   "file_extension": ".py",
   "mimetype": "text/x-python",
   "name": "python",
   "nbconvert_exporter": "python",
   "pygments_lexer": "ipython2",
   "version": "2.7.6"
  }
 },
 "nbformat": 4,
 "nbformat_minor": 0
}